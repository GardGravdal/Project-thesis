{
 "cells": [
  {
   "cell_type": "markdown",
   "metadata": {},
   "source": [
    "# Datasplitting\n",
    "\n",
    "In this file we will manipulate data into train-, validation- and testsets that is compatible with all models used in the project thesis, regardless of whether it was written in Python or R.\n",
    "\n",
    "This function will be used a total of $4$ times, once for each trait in each of the datasets 180k and 70k.\n",
    "\n",
    "The data will be partitioned in training/validation/test sets in proportion 80/10/10 in each case."
   ]
  },
  {
   "cell_type": "markdown",
   "metadata": {},
   "source": [
    "Import libraries used in file"
   ]
  },
  {
   "cell_type": "code",
   "execution_count": 1,
   "metadata": {},
   "outputs": [],
   "source": [
    "import pandas as pd\n",
    "import numpy as np\n",
    "from sklearn.model_selection import train_test_split\n",
    "from sklearn.model_selection import KFold"
   ]
  },
  {
   "cell_type": "markdown",
   "metadata": {},
   "source": [
    "Import processed data (two-step method) that has removed environmental effects."
   ]
  },
  {
   "cell_type": "code",
   "execution_count": 15,
   "metadata": {},
   "outputs": [],
   "source": [
    "data = pd.read_feather(\"C:/Users/gard_/Documents/MasterThesis/ProjectThesis/MyPipeline/Data/Processed/wingBV.feather\")"
   ]
  },
  {
   "cell_type": "code",
   "execution_count": 16,
   "metadata": {},
   "outputs": [
    {
     "name": "stdout",
     "output_type": "stream",
     "text": [
      "Check the dim of ringnrs: \n",
      " (1912,) \n",
      "\n",
      "Any duplicated ringnrs?\n"
     ]
    },
    {
     "data": {
      "text/plain": [
       "False"
      ]
     },
     "execution_count": 16,
     "metadata": {},
     "output_type": "execute_result"
    }
   ],
   "source": [
    "ringnrs = data[\"ringnr\"]\n",
    "print(\"Check the dim of ringnrs: \\n\",ringnrs.shape, \"\\n\")\n",
    "\n",
    "# Are there any duplicated ringnrs?\n",
    "print(\"Any duplicated ringnrs?\")\n",
    "ringnrs.duplicated().any()"
   ]
  },
  {
   "cell_type": "markdown",
   "metadata": {},
   "source": [
    "Next, we want to create 10 CV-folds for the training and validationsets. We use ring_train_val dataset."
   ]
  },
  {
   "cell_type": "code",
   "execution_count": 18,
   "metadata": {},
   "outputs": [],
   "source": [
    "# Initialize KFold with the desired number of splits (10 folds)\n",
    "kf = KFold(n_splits = 10, shuffle = True, random_state = 42)\n",
    "\n",
    "# Create an empty list to hold the different folds with actual data values\n",
    "folds = []\n",
    "\n",
    "# Loop through the kf.split method which yields train and test indices\n",
    "for fold_index, (train_indices, test_indices) in enumerate(kf.split(ringnrs)):\n",
    "    #print(f\"Fold {fold_index+1}:\")\n",
    "    \n",
    "    # Store the actual training and validation data values in each fold\n",
    "    train_data = ringnrs.iloc[train_indices]\n",
    "    test_data = ringnrs.iloc[test_indices]\n",
    "    \n",
    "    # Append the fold containing training and testing data\n",
    "    folds.append({\n",
    "        'train': train_data,\n",
    "        'test': test_data\n",
    "    })\n",
    "\n",
    "# Convert the list of folds into a numpy array for convenience\n",
    "folds_array = np.array(folds, dtype=object)\n",
    "\n",
    "# Print the folds array to inspect the data stored\n",
    "#print(folds_array)"
   ]
  },
  {
   "cell_type": "markdown",
   "metadata": {},
   "source": [
    "Now we want to save the training/validation-folds in a CSV-file so that we can extract it from both Python and R. To do this, we first convert it to a pd.data_frame."
   ]
  },
  {
   "cell_type": "code",
   "execution_count": 19,
   "metadata": {},
   "outputs": [],
   "source": [
    "# Prepare the data to be saved in a structured format (list of dictionaries)\n",
    "csv_data = []\n",
    "for i, fold in enumerate(folds_array):\n",
    "    for ringnr in fold['train']:\n",
    "        csv_data.append({'Fold': i + 1, 'Set': 'train', 'ringnr': ringnr})\n",
    "    for ringnr in fold['test']:\n",
    "        csv_data.append({'Fold': i + 1, 'Set': 'test', 'ringnr': ringnr})\n",
    "\n",
    "# Convert to DataFrame and save as CSV\n",
    "df = pd.DataFrame(csv_data)\n",
    "# df.to_csv('cv_folds.csv', index=False)\n",
    "#print(df)"
   ]
  },
  {
   "cell_type": "code",
   "execution_count": 20,
   "metadata": {},
   "outputs": [],
   "source": [
    "# Save CSV-file\n",
    "# Train/val\n",
    "df.to_csv('cv_folds_wing_180k.csv', index=False)\n",
    "\n",
    "# Test\n",
    "#ring_test.to_csv('ringnr_test.csv', index = False)"
   ]
  }
 ],
 "metadata": {
  "kernelspec": {
   "display_name": "base",
   "language": "python",
   "name": "python3"
  },
  "language_info": {
   "codemirror_mode": {
    "name": "ipython",
    "version": 3
   },
   "file_extension": ".py",
   "mimetype": "text/x-python",
   "name": "python",
   "nbconvert_exporter": "python",
   "pygments_lexer": "ipython3",
   "version": "3.12.4"
  }
 },
 "nbformat": 4,
 "nbformat_minor": 2
}

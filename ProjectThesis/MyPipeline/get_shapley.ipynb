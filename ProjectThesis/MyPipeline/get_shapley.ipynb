{
 "cells": [
  {
   "cell_type": "markdown",
   "metadata": {},
   "source": [
    "## Get Shapley values\n",
    "This is a file to get mean absoulte shapley values over the whole set. Uses models obtained from xgBoostOptuna.ipynb."
   ]
  },
  {
   "cell_type": "code",
   "execution_count": null,
   "metadata": {},
   "outputs": [],
   "source": [
    "import numpy as np\n",
    "import pandas as pd\n",
    "import xgboost as xgb\n",
    "import shap\n",
    "import pyarrow.feather as feather\n",
    "import matplotlib.pyplot as plt\n",
    "import seaborn as sns"
   ]
  },
  {
   "cell_type": "code",
   "execution_count": 56,
   "metadata": {},
   "outputs": [],
   "source": [
    "#data = pd.read_feather(\"C:/Users/gard_/Documents/MasterThesis/ProjectThesis/MyPipeline/Data/Processed/wingBV_70k.feather\")\n",
    "#df = pd.read_csv('C:/Users/gard_/Documents/MasterThesis/ProjectThesis/MyPipeline/Data/CVfolds/cv_folds_wing_70k.csv')\n",
    "#data_models = pd.read_csv(\"C:/Users/gard_/Documents/MasterThesis/ProjectThesis/MyPipeline/Models/shap_70k_params.csv\")"
   ]
  },
  {
   "cell_type": "code",
   "execution_count": 3,
   "metadata": {},
   "outputs": [],
   "source": [
    "mods = np.empty(10, dtype=object)\n",
    "\n",
    "# Loop through each row to create and store the model\n",
    "for i in range(len(data_models)):\n",
    "    row = data_models.iloc[i]\n",
    "    \n",
    "    # Initialize the model with parameters from the current row\n",
    "    model = xgb.XGBRegressor(\n",
    "        n_estimators=600,\n",
    "        learning_rate=row['learning_rate'],\n",
    "        max_depth=int(row['max_depth']),  \n",
    "        subsample=row['subsample'],\n",
    "        colsample_bytree=row['colsample_bytree'],\n",
    "        min_child_weight=int(row['min_child_weight'])\n",
    "    )\n",
    "    \n",
    "    # Store the model in the numpy array\n",
    "    mods[i] = model"
   ]
  },
  {
   "cell_type": "code",
   "execution_count": 31,
   "metadata": {},
   "outputs": [],
   "source": [
    "X_CV = data.drop([\n",
    "            \"ID\",\n",
    "            \"mean_pheno\",\n",
    "            \"IID\",\n",
    "            \"MAT\",\n",
    "            \"PAT\",\n",
    "            \"SEX\",\n",
    "            \"PHENOTYPE\",\n",
    "            \"hatchisland\"\n",
    "        ], axis = 1)\n",
    "\n",
    "X_CV = X_CV.fillna(0)\n",
    "# Change from float to int64 for all columns not 'ringnr' (i.e. all SNPs)\n",
    "X_temp = X_CV.drop(['ringnr'], axis = 1)\n",
    "X_temp = X_temp.T.astype('int64').T\n",
    "X_temp.insert(0, 'ringnr', X_CV['ringnr'])\n",
    "X_CV = X_temp\n",
    "\n",
    "# y is ringnrs + pseudo phenotype\n",
    "y_CV = data[['ID', 'ringnr']]"
   ]
  },
  {
   "cell_type": "code",
   "execution_count": null,
   "metadata": {},
   "outputs": [],
   "source": [
    "shap_list = []\n",
    "def get_shap():\n",
    "    for i in range(1,11):\n",
    "        print(\"Starting run \", i, \"\\n\")\n",
    "        test_idx = df[(df['Fold'] == i) & (df['Set'] == 'test')]['ringnr'].values\n",
    "        train_val_idx = df[(df['Fold'] == i) & (df['Set'] == 'train')]['ringnr'].values\n",
    "        X_train_val = X_CV[X_CV[\"ringnr\"].isin(train_val_idx)].drop([\"ringnr\",],axis = 1)\n",
    "        y_train_val = y_CV[y_CV['ringnr'].isin(train_val_idx)].drop([\"ringnr\",], axis = 1)\n",
    "        X_test = X_CV[X_CV[\"ringnr\"].isin(test_idx)].drop([\"ringnr\",], axis = 1)\n",
    "\n",
    "        model = mods[i-1]\n",
    "        model.fit(X_train_val, y_train_val, verbose = False)\n",
    "        explainer = shap.TreeExplainer(model)\n",
    "        shap_value = explainer.shap_values(X_test) # (n/10 x p)\n",
    "        shap_list.append(shap_value)\n",
    "    return(shap_list)"
   ]
  },
  {
   "cell_type": "code",
   "execution_count": null,
   "metadata": {},
   "outputs": [],
   "source": [
    "# current_shap = pd.read_csv(\"C:/Users/gard_/Documents/MasterThesis/ProjectThesis/MyPipeline/Results/10shap_wing_70k.csv\")"
   ]
  },
  {
   "cell_type": "code",
   "execution_count": null,
   "metadata": {},
   "outputs": [],
   "source": [
    "# shap_list.append(current_shap)\n"
   ]
  },
  {
   "cell_type": "code",
   "execution_count": 88,
   "metadata": {},
   "outputs": [],
   "source": [
    "shap_list = []\n",
    "for i in range(1,11):\n",
    "    name = str(i) + \"shap_wing_70k.csv\"\n",
    "    temp_shap = pd.read_csv(\"C:/Users/gard_/Documents/MasterThesis/ProjectThesis/MyPipeline/Scrap/shap_wing_70k/\" + name)\n",
    "    shap_list.append(temp_shap)"
   ]
  },
  {
   "cell_type": "code",
   "execution_count": null,
   "metadata": {},
   "outputs": [
    {
     "name": "stdout",
     "output_type": "stream",
     "text": [
      "Starting run  1 \n",
      "\n",
      "Starting run  2 \n",
      "\n",
      "Starting run  3 \n",
      "\n",
      "Starting run  4 \n",
      "\n",
      "Starting run  5 \n",
      "\n",
      "Starting run  6 \n",
      "\n",
      "Starting run  7 \n",
      "\n",
      "Starting run  8 \n",
      "\n",
      "Starting run  9 \n",
      "\n",
      "Starting run  10 \n",
      "\n"
     ]
    }
   ],
   "source": [
    "shap_list = get_shap() # (n x p)"
   ]
  },
  {
   "cell_type": "code",
   "execution_count": 60,
   "metadata": {},
   "outputs": [
    {
     "name": "stdout",
     "output_type": "stream",
     "text": [
      "(65238,)\n"
     ]
    }
   ],
   "source": [
    "# Now we have the mean of all shap values for each SNP\n",
    "mean_shap = np.abs(np.concatenate(shap_list, axis=0)).mean(axis=0) # (p x 1), mean over the indvs\n",
    "print(mean_shap.shape)"
   ]
  },
  {
   "cell_type": "code",
   "execution_count": null,
   "metadata": {},
   "outputs": [],
   "source": [
    "# Ensure the mean_shap is a 1D array with shape (n_features,)\n",
    "if mean_shap.ndim == 2:\n",
    "    mean_shap = mean_shap.flatten()\n",
    "\n",
    "# Save to be further manipulated in Chromosome2Manhattan.R\n",
    "shap_df = pd.DataFrame(mean_shap.reshape(1,-1), columns=X_CV.drop([\"ringnr\"], axis = 1).columns) # (p x 1), Values for Manhattan\n",
    "\n",
    "#feather.write_feather(shap_df, 'C:/Users/gard_/Documents/MasterThesis/ProjectThesis/MyPipeline/Results/shap_mass_70k.feather')"
   ]
  },
  {
   "cell_type": "markdown",
   "metadata": {},
   "source": [
    "## Deviation vs \\#SNPs plot"
   ]
  },
  {
   "cell_type": "markdown",
   "metadata": {},
   "source": [
    "\"Proportion of deviation\" vs Amount of SNPs in descending order analysis is done below."
   ]
  },
  {
   "cell_type": "code",
   "execution_count": 89,
   "metadata": {},
   "outputs": [
    {
     "name": "stdout",
     "output_type": "stream",
     "text": [
      "(3366, 65238)\n"
     ]
    }
   ],
   "source": [
    "shap_values = np.concatenate(shap_list, axis=0) # (n x p)\n",
    "print(shap_values.shape)"
   ]
  },
  {
   "cell_type": "markdown",
   "metadata": {},
   "source": [
    "Assuming n predictions and p covariates, giving $n \\times p$ shapley values stored in $(n \\times p)$ array. Intuition is this: For each individual prediction (each row of the matrix), the Shapley values **do not** sum to the deviation of this prediction from the **population** prediction mean. This is because we divide the individuals into 10 different test sets when calculating the shapley values. For each individual prediction, the Shapley values sum to the deviation of this prediction from the **test set** prediction mean, where it is specifically the test set that the individual was a part of.\n",
    "\n",
    "This means that if we sum the absolute shapley values over all the individuals, the $(p\\ \\times\\ 1)$ vector we get (\"deviations\" in the code below), **is not** the accumulated contributions of each shapley value to the deviation of population prediction mean. Thus, one of the advantages of Shapley values is lost by calculating them in 10 testsets. However, this $(p \\times 1)$ vector that we get is a generally a good global approximation of the accumulated contributions of each shapley value to the deviation of population prediction mean. If the $(p\\times 1)$ vector was a vector of \"correctly\" generated Shapley values, the sum of the elements (parameter \"scale\" given in the code below) would be equal to the sum of all the (absolute) prediction deviations from the population prediction mean. The value that we get by summing in our case is always (though really only a little) smaller than in the \"correct\" case (This can be proven by triangle inequality, see handwritten notes).\n",
    "\n",
    "The question is then, is it useful to scale the \"deviations\" like given in the code below? The \"scale\" parameter in the code below tells us something about how variable the trait/predictions are. This information is lost if we scale by the \"scale\" factor. The scaled deviations **approximate** how much *proportional* contribution each SNP has to make the prediciton deviate from the prediction mean. Thus, it makes it easier to compare the contributions of SNPs across traits when we scale. To be clear: The question is if we want the y-axis of the plot to be 1 (scaled) or \"equal\" to the sum of the deviations from prediction mean."
   ]
  },
  {
   "cell_type": "code",
   "execution_count": 146,
   "metadata": {},
   "outputs": [],
   "source": [
    "shap_values = pd.read_feather(\"C:/Users/gard_/Documents/MasterThesis/ProjectThesis/MyPipeline/Results/shap_mass_70k.feather\")"
   ]
  },
  {
   "cell_type": "code",
   "execution_count": 147,
   "metadata": {},
   "outputs": [],
   "source": [
    "# shap_values is (n x p) vector of shapley values\n",
    "# 1) Take absolute value of all Shapley values\n",
    "# 2) Sum the Shapley values SHAP_j over all the indvs -> (p x 1) vector created\n",
    "# 3) Put the accumulated Shapley values in descending order (Highest absolute value first)\n",
    "deviations = -np.sort(-np.sum(np.abs(shap_values),axis = 0)) # (p x 1)\n",
    "# Standardize deviations so that they sum to one?\n",
    "scale = sum(deviations)\n",
    "deviations = deviations/scale"
   ]
  },
  {
   "cell_type": "code",
   "execution_count": 148,
   "metadata": {},
   "outputs": [],
   "source": [
    "# Adds contributions to devuation for each SNP, starting with biggest\n",
    "cummulative_deviations = np.zeros(len(deviations))\n",
    "temp = 0\n",
    "for i in range(len(deviations)):\n",
    "    temp += deviations[i]\n",
    "    cummulative_deviations[i] = temp"
   ]
  },
  {
   "cell_type": "code",
   "execution_count": 150,
   "metadata": {},
   "outputs": [
    {
     "data": {
      "image/png": "[encoded data removed]",
      "text/plain": [
       "<Figure size 800x500 with 1 Axes>"
      ]
     },
     "metadata": {},
     "output_type": "display_data"
    }
   ],
   "source": [
    "n_subset = len(deviations)\n",
    "x = np.linspace(0, n_subset, n_subset)\n",
    "data = pd.DataFrame({\n",
    "    \"Number of SNPs\": x,\n",
    "    \"Proportion of deviation\": cummulative_deviations[:n_subset]\n",
    "})\n",
    "\n",
    "# Set Seaborn theme\n",
    "sns.set_theme(style=\"whitegrid\")\n",
    "\n",
    "# Create line plot\n",
    "plt.figure(figsize=(8, 5))\n",
    "sns.lineplot(data=data, x=\"Number of SNPs\", y=\"Proportion of deviation\", color=\"red\")\n",
    "plt.title(\"Cumulative feature importance over SNPs\", fontsize=16, weight=\"bold\")\n",
    "plt.xlabel(\"Number of SNPs\", fontsize=16)\n",
    "plt.ylabel(\"Prediction power proportion\", fontsize=16)\n",
    "plt.tick_params(axis='both', labelsize=16)\n",
    "\n",
    "plt.savefig(\"C:/Users/gard_/Documents/MasterThesis/ProjectThesis/MyPipeline/Figures/mass_cumulative_deviations.pdf\", dpi=300, bbox_inches=\"tight\")\n",
    "plt.show()"
   ]
  },
  {
   "cell_type": "markdown",
   "metadata": {},
   "source": [
    "Plot the scaled deviations in descending order."
   ]
  },
  {
   "cell_type": "code",
   "execution_count": null,
   "metadata": {},
   "outputs": [],
   "source": [
    "n_subset = 800\n",
    "#n_subset = len(variances)\n",
    "x = np.linspace(0, n_subset, n_subset)\n",
    "plt.figure(0)\n",
    "plt.plot(x, deviations[0:n_subset], color = \"red\")\n",
    "plt.xlabel(\"Number of SNPs\")\n",
    "plt.ylabel(\"Proportion of variance\")\n",
    "plt.show()"
   ]
  },
  {
   "cell_type": "markdown",
   "metadata": {},
   "source": [
    "Testing some assumptions of the SHAP values.\n",
    "Need the predictions for this analysis."
   ]
  },
  {
   "cell_type": "code",
   "execution_count": null,
   "metadata": {},
   "outputs": [],
   "source": [
    "#test_idx = df[(df['Fold'] == i) & (df['Set'] == 'test')]['ringnr'].values\n",
    "#X_test = X_CV[X_CV[\"ringnr\"].isin(test_idx)].drop([\"ringnr\",], axis = 1)\n",
    "#predictions = model.predict(X_test)"
   ]
  },
  {
   "cell_type": "markdown",
   "metadata": {},
   "source": [
    "Slice the shap_value such that it contains the prediction indvs."
   ]
  },
  {
   "cell_type": "code",
   "execution_count": null,
   "metadata": {},
   "outputs": [],
   "source": [
    "# Testing some assumptions of the model\n",
    "print(\"Shape of shapley value array: \", shap_value.shape, \"\\n\")\n",
    "print(\"Shape of predictions array: \", predictions.shape, \"\\n\")\n",
    "# Mean of predictions:\n",
    "mean_preds = sum(predictions)/len(predictions)\n",
    "\n",
    "# The individual from the test set we will look at\n",
    "indv = 17\n",
    "# Sum over the shap-values for each SNP. These values should accumulate to the deviation from population mean\n",
    "print(sum(shap_value[indv]), \"\\n\")\n",
    "# The deviation from population mean for the individual\n",
    "print(predictions[indv] - mean_preds, \"\\n\")"
   ]
  },
  {
   "cell_type": "markdown",
   "metadata": {},
   "source": [
    "Manhattan plot of the shapley values.\n",
    "Next up: Order by chromosome and base pair."
   ]
  },
  {
   "cell_type": "code",
   "execution_count": null,
   "metadata": {},
   "outputs": [],
   "source": [
    "import matplotlib.pyplot as plt\n",
    "x = np.linspace(0, len(shap_value[1]), len(shap_value[1]))\n",
    "mean_shap = np.abs(shap_value).mean(axis = 0)\n",
    "plt.figure(0)\n",
    "plt.plot(x, mean_shap, 'bo', markersize = 1, color = \"blue\")\n",
    "#plt.ylim(0.0,0.008)\n",
    "plt.show()"
   ]
  }
 ],
 "metadata": {
  "kernelspec": {
   "display_name": "base",
   "language": "python",
   "name": "python3"
  },
  "language_info": {
   "codemirror_mode": {
    "name": "ipython",
    "version": 3
   },
   "file_extension": ".py",
   "mimetype": "text/x-python",
   "name": "python",
   "nbconvert_exporter": "python",
   "pygments_lexer": "ipython3",
   "version": "3.12.4"
  }
 },
 "nbformat": 4,
 "nbformat_minor": 2
}

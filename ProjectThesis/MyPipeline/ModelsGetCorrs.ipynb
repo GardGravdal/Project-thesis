{
 "cells": [
  {
   "cell_type": "markdown",
   "metadata": {},
   "source": [
    "## ModelsGetCorrs\n",
    "\n",
    "This file gets the 10 correlations from the 10 folds by importing 10 fitted XGBoost models."
   ]
  },
  {
   "cell_type": "code",
   "execution_count": 10,
   "metadata": {},
   "outputs": [],
   "source": [
    "import numpy as np\n",
    "import pandas as pd\n",
    "import xgboost as xgb\n",
    "from scipy import stats\n",
    "import matplotlib.pyplot as plt\n",
    "import time"
   ]
  },
  {
   "cell_type": "markdown",
   "metadata": {},
   "source": [
    "Change to whatever trait of interest."
   ]
  },
  {
   "cell_type": "code",
   "execution_count": 11,
   "metadata": {},
   "outputs": [],
   "source": [
    "data = pd.read_feather(\"C:/Users/gard_/Documents/MasterThesis/ProjectThesis/MyPipeline/Data/Processed/wingBV.feather\")\n",
    "data_models = pd.read_csv(\"C:/Users/gard_/Documents/MasterThesis/ProjectThesis/MyPipeline/Models/wing_180k_params.csv\")\n",
    "df = pd.read_csv('C:/Users/gard_/Documents/MasterThesis/ProjectThesis/MyPipeline/Data/CVfolds/cv_folds_wing_180k.csv')\n",
    "file_name = \"C:/Users/gard_/Documents/MasterThesis/ProjectThesis/MyPipeline/Results/corr_XGB_wing.csv\""
   ]
  },
  {
   "cell_type": "code",
   "execution_count": 12,
   "metadata": {},
   "outputs": [],
   "source": [
    "mods = np.empty(10, dtype=object)\n",
    "# Loop through each row to create and store the model\n",
    "for i in range(len(data_models)):\n",
    "    row = data_models.iloc[i]\n",
    "    \n",
    "    # Initialize the model with parameters from the current row\n",
    "    model = xgb.XGBRegressor(\n",
    "        n_estimators=600,\n",
    "        learning_rate=row['learning_rate'],\n",
    "        max_depth=int(row['max_depth']),  \n",
    "        subsample=row['subsample'],\n",
    "        colsample_bytree=row['colsample_bytree'],\n",
    "        min_child_weight=int(row['min_child_weight'])\n",
    "    )\n",
    "    \n",
    "    # Store the model in the numpy array\n",
    "    mods[i] = model"
   ]
  },
  {
   "cell_type": "code",
   "execution_count": 13,
   "metadata": {},
   "outputs": [],
   "source": [
    "# X is ringnrs + all SNPs\n",
    "X_CV = data.drop([\n",
    "            \"ID\",\n",
    "            \"mean_pheno\",\n",
    "            \"FID\",\n",
    "            \"MAT\",\n",
    "            \"PAT\",\n",
    "            \"SEX\",\n",
    "            \"PHENOTYPE\",\n",
    "            \"hatchisland\"\n",
    "        ], axis = 1)\n",
    "\n",
    "# Some of the SNPS have NA-values. Set to 0\n",
    "X_CV = X_CV.fillna(0)\n",
    "# Change from float to int64 for all columns not 'ringnr' (i.e. all SNPs)\n",
    "X_temp = X_CV.drop(['ringnr'], axis = 1)\n",
    "X_temp = X_temp.T.astype('int64').T\n",
    "X_temp.insert(0, 'ringnr', X_CV['ringnr'])\n",
    "X_CV = X_temp\n",
    "\n",
    "# y is ringnrs + pseudo phenotype\n",
    "y_CV = data[['ID', 'ringnr']]\n",
    "y_CV_mean = data[['mean_pheno', 'ringnr']]"
   ]
  },
  {
   "cell_type": "code",
   "execution_count": 14,
   "metadata": {},
   "outputs": [],
   "source": [
    "def time_convert(seconds):\n",
    "    hours = seconds // 3600\n",
    "    minutes = (seconds % 3600) // 60\n",
    "    seconds = seconds % 60\n",
    "    return f\"{hours} hours, {minutes} minutes and {seconds} seconds\""
   ]
  },
  {
   "cell_type": "code",
   "execution_count": 17,
   "metadata": {},
   "outputs": [],
   "source": [
    "corr_arr = np.zeros(10)\n",
    "start_time = time.time()\n",
    "def get_corrs():\n",
    "    \"\"\"Function to run through CV-folds getting correlations\n",
    "    on predefined models.\"\"\"\n",
    "    for i in range(1,11):\n",
    "        print(\"Starting run \", i, \"at time \", time_convert(time.time() - start_time), \"\\n\")\n",
    "        test_idx = df[(df['Fold'] == i) & (df['Set'] == 'test')]['ringnr'].values\n",
    "        train_val_idx = df[(df['Fold'] == i) & (df['Set'] == 'train')]['ringnr'].values\n",
    "        X_train_val = X_CV[X_CV[\"ringnr\"].isin(train_val_idx)].drop([\"ringnr\",],axis = 1)\n",
    "        y_train_val = y_CV[y_CV['ringnr'].isin(train_val_idx)].drop([\"ringnr\",], axis = 1)\n",
    "        X_test = X_CV[X_CV[\"ringnr\"].isin(test_idx)].drop([\"ringnr\",], axis = 1)\n",
    "        y_mean_test = y_CV_mean[y_CV_mean[\"ringnr\"].isin(test_idx)].drop([\"ringnr\",], axis = 1)\n",
    "\n",
    "        model = mods[i-1]\n",
    "        model.fit(X_train_val, y_train_val, verbose = False)\n",
    "        predictions = model.predict(X_test)\n",
    "        res = stats.pearsonr(y_mean_test.iloc[:,0], predictions)[0]\n",
    "        corr_arr[i-1] = res\n",
    "        \n",
    "    return(corr_arr)"
   ]
  },
  {
   "cell_type": "code",
   "execution_count": 20,
   "metadata": {},
   "outputs": [
    {
     "name": "stdout",
     "output_type": "stream",
     "text": [
      "Starting run  1 at time  0.0 hours, 0.0 minutes and 25.360984086990356 seconds \n",
      "\n",
      "Starting run  2 at time  0.0 hours, 36.0 minutes and 18.03554892539978 seconds \n",
      "\n",
      "Starting run  3 at time  1.0 hours, 5.0 minutes and 33.264954805374146 seconds \n",
      "\n",
      "Starting run  4 at time  1.0 hours, 29.0 minutes and 10.655850172042847 seconds \n",
      "\n",
      "Starting run  5 at time  2.0 hours, 1.0 minutes and 16.320937633514404 seconds \n",
      "\n",
      "Starting run  6 at time  2.0 hours, 41.0 minutes and 24.546459674835205 seconds \n",
      "\n",
      "Starting run  7 at time  3.0 hours, 14.0 minutes and 43.190431118011475 seconds \n",
      "\n",
      "Starting run  8 at time  3.0 hours, 44.0 minutes and 56.523322105407715 seconds \n",
      "\n",
      "Starting run  9 at time  4.0 hours, 20.0 minutes and 59.74850153923035 seconds \n",
      "\n",
      "Starting run  10 at time  4.0 hours, 52.0 minutes and 57.83616375923157 seconds \n",
      "\n"
     ]
    }
   ],
   "source": [
    "corr_arr = get_corrs()"
   ]
  },
  {
   "cell_type": "code",
   "execution_count": 21,
   "metadata": {},
   "outputs": [],
   "source": [
    "np.savetxt(file_name, corr_arr, delimiter=\",\")"
   ]
  },
  {
   "cell_type": "markdown",
   "metadata": {},
   "source": [
    "Plotting the result if we want."
   ]
  },
  {
   "cell_type": "code",
   "execution_count": null,
   "metadata": {},
   "outputs": [],
   "source": [
    "plt.boxplot(corr_arr)\n",
    "plt.show()"
   ]
  }
 ],
 "metadata": {
  "kernelspec": {
   "display_name": "base",
   "language": "python",
   "name": "python3"
  },
  "language_info": {
   "codemirror_mode": {
    "name": "ipython",
    "version": 3
   },
   "file_extension": ".py",
   "mimetype": "text/x-python",
   "name": "python",
   "nbconvert_exporter": "python",
   "pygments_lexer": "ipython3",
   "version": "3.12.4"
  }
 },
 "nbformat": 4,
 "nbformat_minor": 2
}
